{
 "cells": [
  {
   "cell_type": "code",
   "execution_count": 1,
   "id": "9359bd94-a046-4e4b-add7-b1d6bb579dff",
   "metadata": {},
   "outputs": [],
   "source": [
    "#Q1\n",
    "truple_list=[('Sachin Tendulkar',34357),('Ricky Ponting',27483),('Jack Kallis',25534),('virat Kohli',24936)]"
   ]
  },
  {
   "cell_type": "code",
   "execution_count": 2,
   "id": "1f43f0a7-e247-441b-8c2e-626601e4c6a1",
   "metadata": {},
   "outputs": [],
   "source": [
    "sorted_list = sorted(truple_list, key=lambda x : x[1])"
   ]
  },
  {
   "cell_type": "code",
   "execution_count": 3,
   "id": "290bad6c-5c82-473c-a9b0-cf4170860e4d",
   "metadata": {},
   "outputs": [
    {
     "name": "stdout",
     "output_type": "stream",
     "text": [
      "original List: [('Sachin Tendulkar', 34357), ('Ricky Ponting', 27483), ('Jack Kallis', 25534), ('virat Kohli', 24936)]\n",
      "sorted list: [('virat Kohli', 24936), ('Jack Kallis', 25534), ('Ricky Ponting', 27483), ('Sachin Tendulkar', 34357)]\n"
     ]
    }
   ],
   "source": [
    "print(\"original List:\",truple_list)\n",
    "print(\"sorted list:\",sorted_list)"
   ]
  },
  {
   "cell_type": "code",
   "execution_count": 22,
   "id": "1e1bef57-bdc3-4f28-a09f-c7024e8fad22",
   "metadata": {},
   "outputs": [],
   "source": [
    "#Q2\n",
    "numbers=[1,2,3,4,5,6,7,8,9,10]"
   ]
  },
  {
   "cell_type": "code",
   "execution_count": 23,
   "id": "53d6283c-0b24-496c-95a7-67109f2b31eb",
   "metadata": {},
   "outputs": [],
   "source": [
    "\n",
    "squares = list(map(lambda x:x**2,numbers))"
   ]
  },
  {
   "cell_type": "code",
   "execution_count": 24,
   "id": "5b357d65-b31e-47a9-918a-da0a4cba87bb",
   "metadata": {},
   "outputs": [
    {
     "name": "stdout",
     "output_type": "stream",
     "text": [
      "[1, 4, 9, 16, 25, 36, 49, 64, 81, 100]\n"
     ]
    }
   ],
   "source": [
    "print(squares)"
   ]
  },
  {
   "cell_type": "code",
   "execution_count": 25,
   "id": "b3e5d811-0906-45a8-b2e6-e35038a82b5c",
   "metadata": {},
   "outputs": [],
   "source": [
    "#Q3\n",
    "convert = tuple(map(lambda x:(str(x)),numbers))"
   ]
  },
  {
   "cell_type": "code",
   "execution_count": 26,
   "id": "699cd6ad-7b99-40f6-88cf-87c3ef1e2ea1",
   "metadata": {},
   "outputs": [
    {
     "name": "stdout",
     "output_type": "stream",
     "text": [
      "('1', '2', '3', '4', '5', '6', '7', '8', '9', '10')\n"
     ]
    }
   ],
   "source": [
    "print(convert)\n"
   ]
  },
  {
   "cell_type": "code",
   "execution_count": 36,
   "id": "dca7f797-d78a-4b46-bb4d-4175c76e43fe",
   "metadata": {},
   "outputs": [],
   "source": [
    "#Q4\n",
    "qwe = list(range(1,26))"
   ]
  },
  {
   "cell_type": "code",
   "execution_count": 37,
   "id": "06568588-c5d4-4a30-8fbe-1a685dac1336",
   "metadata": {},
   "outputs": [],
   "source": [
    "from functools import reduce"
   ]
  },
  {
   "cell_type": "code",
   "execution_count": 38,
   "id": "7affb18f-d51f-400f-9cdb-42d1b13dba3d",
   "metadata": {},
   "outputs": [
    {
     "data": {
      "text/plain": [
       "15511210043330985984000000"
      ]
     },
     "execution_count": 38,
     "metadata": {},
     "output_type": "execute_result"
    }
   ],
   "source": [
    "reduce(lambda x,y:x*y,qwe)"
   ]
  },
  {
   "cell_type": "code",
   "execution_count": 39,
   "id": "f813379a-7fb1-4707-a654-6c1744f98557",
   "metadata": {},
   "outputs": [],
   "source": [
    "ewq= [2,3,6,27,60,90,120,55,46]"
   ]
  },
  {
   "cell_type": "code",
   "execution_count": 48,
   "id": "27318930-b162-4de1-a289-8ba26bd0e9cc",
   "metadata": {},
   "outputs": [
    {
     "data": {
      "text/plain": [
       "[6, 60, 90, 120]"
      ]
     },
     "execution_count": 48,
     "metadata": {},
     "output_type": "execute_result"
    }
   ],
   "source": [
    "#Q5\n",
    "list(filter(lambda x:x%2==0 and x%3==0,ewq))"
   ]
  },
  {
   "cell_type": "code",
   "execution_count": 49,
   "id": "5e973943-4525-47ec-b8f7-3fa9347469f6",
   "metadata": {},
   "outputs": [],
   "source": [
    "palin=['python','php','aba','radar','level']"
   ]
  },
  {
   "cell_type": "code",
   "execution_count": 53,
   "id": "70882716-e18b-481e-a27f-d974c07f072f",
   "metadata": {},
   "outputs": [
    {
     "data": {
      "text/plain": [
       "['php', 'aba', 'radar', 'level']"
      ]
     },
     "execution_count": 53,
     "metadata": {},
     "output_type": "execute_result"
    }
   ],
   "source": [
    "#Q6\n",
    "list(filter(lambda x: x == x[::-1] ,palin))"
   ]
  },
  {
   "cell_type": "code",
   "execution_count": null,
   "id": "8b3f5b8c-37ca-4c25-8018-47f08548046c",
   "metadata": {},
   "outputs": [],
   "source": []
  }
 ],
 "metadata": {
  "kernelspec": {
   "display_name": "Python 3 (ipykernel)",
   "language": "python",
   "name": "python3"
  },
  "language_info": {
   "codemirror_mode": {
    "name": "ipython",
    "version": 3
   },
   "file_extension": ".py",
   "mimetype": "text/x-python",
   "name": "python",
   "nbconvert_exporter": "python",
   "pygments_lexer": "ipython3",
   "version": "3.10.8"
  }
 },
 "nbformat": 4,
 "nbformat_minor": 5
}
